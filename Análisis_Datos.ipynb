{
 "cells": [
  {
   "cell_type": "markdown",
   "id": "6fbd1642-5820-4a16-b4ee-f372741d6339",
   "metadata": {},
   "source": [
    "## Importar datos desde BD SQL "
   ]
  },
  {
   "cell_type": "code",
   "execution_count": null,
   "id": "c5f26076-6284-4e32-935d-e1e41acc4b6b",
   "metadata": {},
   "outputs": [],
   "source": [
    "import pyodbc\n",
    "import pandas as pd"
   ]
  },
  {
   "cell_type": "code",
   "execution_count": null,
   "id": "c946187e-4dfb-4724-93dc-8bfddcc0490e",
   "metadata": {},
   "outputs": [],
   "source": [
    "server = 'PROBOOK-ROCTO'\n",
    "bd = 'DB_PYTHON'             # Nombre de la base de datos"
   ]
  },
  {
   "cell_type": "code",
   "execution_count": null,
   "id": "f27a934d-97ae-496a-a7dc-f17c275ece78",
   "metadata": {},
   "outputs": [],
   "source": [
    "conexion = pyodbc.connect(driver='{SQL server}', host=server, database=bd)"
   ]
  },
  {
   "cell_type": "code",
   "execution_count": null,
   "id": "e842c362-6c85-4223-8561-7604ccc6eaef",
   "metadata": {},
   "outputs": [],
   "source": []
  },
  {
   "cell_type": "code",
   "execution_count": null,
   "id": "ada56d9c-6fbc-47c8-93c1-efd762754f5a",
   "metadata": {},
   "outputs": [],
   "source": [
    "conexion.close()            # Cierre de conexión"
   ]
  }
 ],
 "metadata": {
  "kernelspec": {
   "display_name": "Python 3 (ipykernel)",
   "language": "python",
   "name": "python3"
  },
  "language_info": {
   "codemirror_mode": {
    "name": "ipython",
    "version": 3
   },
   "file_extension": ".py",
   "mimetype": "text/x-python",
   "name": "python",
   "nbconvert_exporter": "python",
   "pygments_lexer": "ipython3",
   "version": "3.8.16"
  }
 },
 "nbformat": 4,
 "nbformat_minor": 5
}
